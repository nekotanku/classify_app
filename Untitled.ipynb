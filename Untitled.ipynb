{
 "cells": [
  {
   "cell_type": "code",
   "execution_count": 2,
   "metadata": {},
   "outputs": [],
   "source": [
    "from PIL import Image\n",
    "import os, glob\n",
    "import numpy as np\n",
    "from sklearn import model_selection\n",
    "\n",
    "classes = ['monkey', 'boar', 'crow']\n",
    "num_clases = len(classes)\n",
    "image_size = 50\n",
    "\n",
    "X = []\n",
    "Y = []\n",
    "for index, classlabel in enumerate(classes):\n",
    "    photos_dir = \"./\" + classlabel\n",
    "    files = glob.glob(photos_dir + \"/*.jpg\")\n",
    "    for i, file in enumerate(files):\n",
    "        if i >= 200 : break\n",
    "        image = Image.open(file)\n",
    "        image = image.convert(\"RGB\")\n",
    "        image = image.resize((image_size, image_size))\n",
    "        data = np.asarray(image)\n",
    "        X.append(data)\n",
    "        Y.append(index)\n",
    "X = np.array(X)\n",
    "Y = np.array(Y)\n",
    "\n",
    "X_train, X_test, y_train, y_test = model_selection.train_test_split(X, Y)\n",
    "xy = (X_train, X_test, y_train, y_test)\n",
    "np.save(\"./animal.npy\", xy)"
   ]
  },
  {
   "cell_type": "code",
   "execution_count": 3,
   "metadata": {},
   "outputs": [
    {
     "data": {
      "text/plain": [
       "array([[[ 43,  91,  32],\n",
       "        [ 36,  81,  11],\n",
       "        [ 40,  80,  18],\n",
       "        ...,\n",
       "        [ 28,  50,  23],\n",
       "        [ 23,  46,  28],\n",
       "        [ 21,  42,  35]],\n",
       "\n",
       "       [[ 47,  90,  35],\n",
       "        [ 43,  85,  25],\n",
       "        [ 50,  89,  39],\n",
       "        ...,\n",
       "        [ 27,  50,  33],\n",
       "        [ 25,  46,  39],\n",
       "        [ 22,  43,  45]],\n",
       "\n",
       "       [[ 52,  93,  48],\n",
       "        [ 52,  91,  43],\n",
       "        [ 68, 106,  58],\n",
       "        ...,\n",
       "        [ 25,  47,  41],\n",
       "        [ 24,  44,  48],\n",
       "        [ 22,  43,  53]],\n",
       "\n",
       "       ...,\n",
       "\n",
       "       [[161, 155,  65],\n",
       "        [151, 143,  61],\n",
       "        [143, 133,  64],\n",
       "        ...,\n",
       "        [152, 145, 155],\n",
       "        [152, 143, 151],\n",
       "        [155, 141, 144]],\n",
       "\n",
       "       [[167, 166,  71],\n",
       "        [160, 156,  69],\n",
       "        [153, 147,  73],\n",
       "        ...,\n",
       "        [154, 148, 158],\n",
       "        [153, 145, 153],\n",
       "        [147, 138, 140]],\n",
       "\n",
       "       [[174, 176,  78],\n",
       "        [171, 172,  81],\n",
       "        [167, 167,  87],\n",
       "        ...,\n",
       "        [143, 137, 146],\n",
       "        [141, 132, 140],\n",
       "        [128, 115, 118]]], dtype=uint8)"
      ]
     },
     "execution_count": 3,
     "metadata": {},
     "output_type": "execute_result"
    }
   ],
   "source": [
    "X[0]"
   ]
  },
  {
   "cell_type": "code",
   "execution_count": 4,
   "metadata": {},
   "outputs": [
    {
     "data": {
      "text/plain": [
       "576"
      ]
     },
     "execution_count": 4,
     "metadata": {},
     "output_type": "execute_result"
    }
   ],
   "source": [
    "len(X)"
   ]
  },
  {
   "cell_type": "code",
   "execution_count": 5,
   "metadata": {},
   "outputs": [
    {
     "data": {
      "text/plain": [
       "0"
      ]
     },
     "execution_count": 5,
     "metadata": {},
     "output_type": "execute_result"
    }
   ],
   "source": [
    "Y[100]"
   ]
  },
  {
   "cell_type": "code",
   "execution_count": 6,
   "metadata": {},
   "outputs": [
    {
     "data": {
      "text/plain": [
       "432"
      ]
     },
     "execution_count": 6,
     "metadata": {},
     "output_type": "execute_result"
    }
   ],
   "source": [
    "len(X_train)"
   ]
  },
  {
   "cell_type": "code",
   "execution_count": 7,
   "metadata": {},
   "outputs": [
    {
     "data": {
      "text/plain": [
       "144"
      ]
     },
     "execution_count": 7,
     "metadata": {},
     "output_type": "execute_result"
    }
   ],
   "source": [
    "len(X_test)"
   ]
  },
  {
   "cell_type": "code",
   "execution_count": 8,
   "metadata": {},
   "outputs": [
    {
     "data": {
      "text/plain": [
       "432"
      ]
     },
     "execution_count": 8,
     "metadata": {},
     "output_type": "execute_result"
    }
   ],
   "source": [
    "len(y_train)"
   ]
  },
  {
   "cell_type": "code",
   "execution_count": 9,
   "metadata": {},
   "outputs": [
    {
     "data": {
      "text/plain": [
       "144"
      ]
     },
     "execution_count": 9,
     "metadata": {},
     "output_type": "execute_result"
    }
   ],
   "source": [
    "len(y_test)"
   ]
  },
  {
   "cell_type": "code",
   "execution_count": null,
   "metadata": {},
   "outputs": [],
   "source": []
  }
 ],
 "metadata": {
  "kernelspec": {
   "display_name": "Python 3",
   "language": "python",
   "name": "python3"
  },
  "language_info": {
   "codemirror_mode": {
    "name": "ipython",
    "version": 3
   },
   "file_extension": ".py",
   "mimetype": "text/x-python",
   "name": "python",
   "nbconvert_exporter": "python",
   "pygments_lexer": "ipython3",
   "version": "3.6.10"
  }
 },
 "nbformat": 4,
 "nbformat_minor": 4
}
